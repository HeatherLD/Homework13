{
 "cells": [
  {
   "cell_type": "markdown",
   "id": "bbcc6bf0",
   "metadata": {},
   "source": [
    "# In Class Group Activity, Week 13, Heather Leighton-Dick"
   ]
  },
  {
   "cell_type": "markdown",
   "id": "b01e3dd0",
   "metadata": {},
   "source": [
    "## 1. Describe KNN in your own words."
   ]
  },
  {
   "cell_type": "markdown",
   "id": "421bab43",
   "metadata": {},
   "source": [
    "The KNN classification stands for K Nearest Neighbor, and it is a way of predicting the group of a datapoint belongs to based on its proximity to other datapoints (proximity grants the other datapoints \"votes\" about what group the single datapoint belongs to); KNN is based on the statement/theory \"similar things exist in close proximity\"."
   ]
  },
  {
   "cell_type": "markdown",
   "id": "6d6d6ac1",
   "metadata": {},
   "source": [
    "## 2. Using the KNN example from class, write a function that finds the optimal value for k. You should iterate over a range of values and return the k and the score when the accuracy score is maximized. Be sure to only use odd values."
   ]
  },
  {
   "cell_type": "markdown",
   "id": "e7ba3205",
   "metadata": {},
   "source": [
    "### Note: I'm not sure how to reconcile using only odd values (for K, I assume) with what the analysis showed me, which is that the most accurate K is 38. I didn't get any errors about ties because of an even number of classes, so I seem to be in the clear. Also, I'm not sure how to work a loop about odd/even i's in the ranges into the function, since KNN is a class, not an integer."
   ]
  },
  {
   "cell_type": "code",
   "execution_count": 10,
   "id": "51ae9019",
   "metadata": {},
   "outputs": [],
   "source": [
    "import numpy as np\n",
    "import pandas as pd\n",
    "import matplotlib.pyplot as plt\n",
    "import seaborn as sns\n",
    "from sklearn.neighbors import KNeighborsClassifier\n",
    "from sklearn.model_selection import train_test_split\n",
    "from sklearn import metrics"
   ]
  },
  {
   "cell_type": "code",
   "execution_count": 5,
   "id": "4180b215",
   "metadata": {},
   "outputs": [
    {
     "data": {
      "text/html": [
       "<div>\n",
       "<style scoped>\n",
       "    .dataframe tbody tr th:only-of-type {\n",
       "        vertical-align: middle;\n",
       "    }\n",
       "\n",
       "    .dataframe tbody tr th {\n",
       "        vertical-align: top;\n",
       "    }\n",
       "\n",
       "    .dataframe thead th {\n",
       "        text-align: right;\n",
       "    }\n",
       "</style>\n",
       "<table border=\"1\" class=\"dataframe\">\n",
       "  <thead>\n",
       "    <tr style=\"text-align: right;\">\n",
       "      <th></th>\n",
       "      <th>Pregnancies</th>\n",
       "      <th>Glucose</th>\n",
       "      <th>BloodPressure</th>\n",
       "      <th>SkinThickness</th>\n",
       "      <th>Insulin</th>\n",
       "      <th>BMI</th>\n",
       "      <th>DiabetesPedigreeFunction</th>\n",
       "      <th>Age</th>\n",
       "      <th>Outcome</th>\n",
       "    </tr>\n",
       "  </thead>\n",
       "  <tbody>\n",
       "    <tr>\n",
       "      <th>0</th>\n",
       "      <td>6</td>\n",
       "      <td>148</td>\n",
       "      <td>72</td>\n",
       "      <td>35</td>\n",
       "      <td>0</td>\n",
       "      <td>33.6</td>\n",
       "      <td>0.627</td>\n",
       "      <td>50</td>\n",
       "      <td>1</td>\n",
       "    </tr>\n",
       "    <tr>\n",
       "      <th>1</th>\n",
       "      <td>1</td>\n",
       "      <td>85</td>\n",
       "      <td>66</td>\n",
       "      <td>29</td>\n",
       "      <td>0</td>\n",
       "      <td>26.6</td>\n",
       "      <td>0.351</td>\n",
       "      <td>31</td>\n",
       "      <td>0</td>\n",
       "    </tr>\n",
       "    <tr>\n",
       "      <th>2</th>\n",
       "      <td>8</td>\n",
       "      <td>183</td>\n",
       "      <td>64</td>\n",
       "      <td>0</td>\n",
       "      <td>0</td>\n",
       "      <td>23.3</td>\n",
       "      <td>0.672</td>\n",
       "      <td>32</td>\n",
       "      <td>1</td>\n",
       "    </tr>\n",
       "    <tr>\n",
       "      <th>3</th>\n",
       "      <td>1</td>\n",
       "      <td>89</td>\n",
       "      <td>66</td>\n",
       "      <td>23</td>\n",
       "      <td>94</td>\n",
       "      <td>28.1</td>\n",
       "      <td>0.167</td>\n",
       "      <td>21</td>\n",
       "      <td>0</td>\n",
       "    </tr>\n",
       "    <tr>\n",
       "      <th>4</th>\n",
       "      <td>0</td>\n",
       "      <td>137</td>\n",
       "      <td>40</td>\n",
       "      <td>35</td>\n",
       "      <td>168</td>\n",
       "      <td>43.1</td>\n",
       "      <td>2.288</td>\n",
       "      <td>33</td>\n",
       "      <td>1</td>\n",
       "    </tr>\n",
       "  </tbody>\n",
       "</table>\n",
       "</div>"
      ],
      "text/plain": [
       "   Pregnancies  Glucose  BloodPressure  SkinThickness  Insulin   BMI  \\\n",
       "0            6      148             72             35        0  33.6   \n",
       "1            1       85             66             29        0  26.6   \n",
       "2            8      183             64              0        0  23.3   \n",
       "3            1       89             66             23       94  28.1   \n",
       "4            0      137             40             35      168  43.1   \n",
       "\n",
       "   DiabetesPedigreeFunction  Age  Outcome  \n",
       "0                     0.627   50        1  \n",
       "1                     0.351   31        0  \n",
       "2                     0.672   32        1  \n",
       "3                     0.167   21        0  \n",
       "4                     2.288   33        1  "
      ]
     },
     "execution_count": 5,
     "metadata": {},
     "output_type": "execute_result"
    }
   ],
   "source": [
    "diabetes_df = pd.read_csv(\"diabetes.csv\")\n",
    "diabetes_df.head()"
   ]
  },
  {
   "cell_type": "code",
   "execution_count": 22,
   "id": "e1ee02df",
   "metadata": {},
   "outputs": [
    {
     "name": "stdout",
     "output_type": "stream",
     "text": [
      "[0 0 0 0 1 0 0 0 1 1 0 1 0 0 0 0 0 0 1 0 1 0 0 0 0 1 0 0 0 0 1 1 1 1 1 1 1\n",
      " 0 0 1 0 1 0 0 0 0 1 0 0 1 0 1 1 0 0 0 1 0 0 1 0 0 0 0 0 0 0 1 0 1 1 0 0 0\n",
      " 0 0 1 0 0 0 1 0 0 0 0 1 1 0 0 0 0 0 0 0 0 1 1 0 1 0 1 0 0 0 1 0 0 1 0 1 0\n",
      " 0 0 1 0 0 1 0 0 0 0 0 0 0 0 0 0 1 1 1 1 1 0 0 1 0 0 1 1 0 0 0 0 0 0 0 0 0\n",
      " 0 1 0 1 0 0 0 0 0 0 1 0 0 0 0 0 0 1 0 0 1 0 1 0 0 0 1 0 0 1 0 0 0 0 1 0 0\n",
      " 0 0 0 1 1 0 0 0 0 0 0 0 0 0 1 0 0 0 0 1 0 0 0 1 1 0 0 0 0 0 0 0 0 0 1 1 0\n",
      " 0 0 0 1 0 0 0 0 0]\n"
     ]
    }
   ],
   "source": [
    "#copied from class document\n",
    "X = diabetes_df.drop('Outcome',axis=1)\n",
    "y = diabetes_df['Outcome']\n",
    "\n",
    "X_train, X_test, y_train, y_test = train_test_split(X, y, test_size=0.3, random_state=42)\n",
    "\n",
    "#Standardization-transforming values so mean is 0 and SD is 1\n",
    "from sklearn.preprocessing import StandardScaler\n",
    "sc = StandardScaler()\n",
    "X_train = sc.fit_transform(X_train)\n",
    "X_test = sc.fit_transform(X_test)\n",
    "\n",
    "knn=KNeighborsClassifier(n_neighbors=13)\n",
    "knn.fit(X_train, y_train)\n",
    "y_predict = knn.predict(X_test)\n",
    "print(y_predict)"
   ]
  },
  {
   "cell_type": "code",
   "execution_count": 7,
   "id": "1f1ede4c",
   "metadata": {},
   "outputs": [
    {
     "name": "stdout",
     "output_type": "stream",
     "text": [
      "0.7142857142857143\n"
     ]
    }
   ],
   "source": [
    "print(knn.score(X_test,y_test))"
   ]
  },
  {
   "cell_type": "code",
   "execution_count": 47,
   "id": "36e5995e",
   "metadata": {},
   "outputs": [
    {
     "name": "stdout",
     "output_type": "stream",
     "text": [
      "0.23809523809523808 for K at 38\n",
      "<class 'abc.ABCMeta'>\n"
     ]
    },
    {
     "data": {
      "image/png": "[encoded data removed]",
      "text/plain": [
       "<Figure size 864x432 with 1 Axes>"
      ]
     },
     "metadata": {
      "needs_background": "light"
     },
     "output_type": "display_data"
    }
   ],
   "source": [
    "#graph error rate and K for values in a defined range.\n",
    "#Then choose the K value that has the lowest error rate.\n",
    "\n",
    "error_rate = []\n",
    "\n",
    "for i in range(1,50):\n",
    "    knn = KNeighborsClassifier(n_neighbors=i) \n",
    "    knn.fit(X_train, y_train)\n",
    "    y_predict = knn.predict(X_test)\n",
    "    error_rate.append(np.mean(y_predict != y_test))\n",
    "\n",
    "\n",
    "plt.figure(figsize=(12,6))\n",
    "plt.plot(range(1,50), error_rate, color=\"green\", marker=\"o\", markerfacecolor=\"red\", markersize=6)\n",
    "plt.title(\"Error Rate vs K Value\")\n",
    "plt.xlabel(\"K\")\n",
    "plt.ylabel(\"Error Rate\")\n",
    "print(min(error_rate), \"for K at\", error_rate.index(min(error_rate)))\n",
    "\n",
    "print(type(KNeighborsClassifier))"
   ]
  },
  {
   "cell_type": "code",
   "execution_count": 44,
   "id": "ee9af997",
   "metadata": {},
   "outputs": [
    {
     "name": "stdout",
     "output_type": "stream",
     "text": [
      "0.7619047619047619 for K at 38\n"
     ]
    },
    {
     "data": {
      "image/png": "[encoded data removed]",
      "text/plain": [
       "<Figure size 864x432 with 1 Axes>"
      ]
     },
     "metadata": {
      "needs_background": "light"
     },
     "output_type": "display_data"
    }
   ],
   "source": [
    "#function to figure out max accuracy based on k\n",
    "#graph accuracy rate and K over the same range\n",
    "\n",
    "accuracy = []\n",
    "\n",
    "for i in range(1,50):\n",
    "    neighbor = KNeighborsClassifier(n_neighbors = i).fit(X_train,y_train)\n",
    "    y_prediction = neighbor.predict(X_test)\n",
    "    accuracy.append(metrics.accuracy_score(y_test, y_prediction))\n",
    "    \n",
    "plt.figure(figsize=(12,6))\n",
    "plt.plot(range(1,50), accuracy, color=\"green\", marker=\"o\", markerfacecolor=\"red\", markersize=6)\n",
    "plt.title(\"Accuracy vs K Value\")\n",
    "plt.xlabel(\"K\")\n",
    "plt.ylabel(\"Accuracy\")\n",
    "print(max(accuracy), \"for K at\", accuracy.index(max(accuracy)))"
   ]
  },
  {
   "cell_type": "markdown",
   "id": "1c04f851",
   "metadata": {},
   "source": [
    "### As noted above, the analysis shows that 38 is the best K; it results in the lowest relative minimum error rate (about 24%) and the highest relative maximum accuracy score (about 76%). \n"
   ]
  },
  {
   "cell_type": "markdown",
   "id": "82f6cd54",
   "metadata": {},
   "source": [
    "## 3. How did the panel influence your thoughts about working in tech, specifically work in the data realm? Discuss with your group and summarize your thoughts in under 250 words."
   ]
  },
  {
   "cell_type": "markdown",
   "id": "540c70fa",
   "metadata": {},
   "source": [
    "We all enjoyed the panel overall -- it was valuable to have perspectives from people who have different roles and have had different experiences in the tech field. We also appreciated the discussion on parlaying soft skills or background knowledge acquired through other work experiences in different fields -- it is something we struggle with, since there is a tendency to downplay work experience that isn't directly in the field of the job you're applying for. (I know I've always been taught to highlight skills directly related to the job, at the expense of  general knowledge or people skills.\n",
    "\n",
    "The discussion gave me hope that I can make this career change and have my skills taken seriously while being able to learn and grow as a professional. It was good to have the reminder, too, that any interview is a two-way street in which I have the right to ask questions and find out more about the company. The trick is going to be figuring out which role I want to play and where my data wrangling strengths are, keeping in mind that I might enter one job but ultimately move on to other positions."
   ]
  },
  {
   "cell_type": "code",
   "execution_count": null,
   "id": "fa9bbfe0",
   "metadata": {},
   "outputs": [],
   "source": []
  }
 ],
 "metadata": {
  "kernelspec": {
   "display_name": "Python 3 (ipykernel)",
   "language": "python",
   "name": "python3"
  },
  "language_info": {
   "codemirror_mode": {
    "name": "ipython",
    "version": 3
   },
   "file_extension": ".py",
   "mimetype": "text/x-python",
   "name": "python",
   "nbconvert_exporter": "python",
   "pygments_lexer": "ipython3",
   "version": "3.9.7"
  }
 },
 "nbformat": 4,
 "nbformat_minor": 5
}
